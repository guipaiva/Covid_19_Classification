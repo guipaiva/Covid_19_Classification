{
 "cells": [
  {
   "cell_type": "code",
   "execution_count": 1,
   "metadata": {},
   "outputs": [],
   "source": [
    "import sys\n",
    "import os\n",
    "sys.path.append(os.path.abspath('../'))\n",
    "sys.path.append('/media/data/Documents/IFB/PIBIC/Covid_19_Classification')"
   ]
  },
  {
   "cell_type": "code",
   "execution_count": 2,
   "metadata": {},
   "outputs": [],
   "source": [
    "import data_loaders.covidx_loader as loader\n",
    "from utils.definitions import DATA_DIR\n",
    "\n",
    "dataset = 'COVIDx'\n",
    "im_directory = os.path.join(DATA_DIR, dataset)\n",
    "train_directory = os.path.join(im_directory, 'train')\n",
    "label_dir = os.path.join(im_directory, 'train.txt')"
   ]
  },
  {
   "cell_type": "code",
   "execution_count": 3,
   "metadata": {},
   "outputs": [],
   "source": [
    "ds = loader.CovidxLoader(directory = train_directory, im_shape = (224,224,3), label_dir= label_dir, class_mode='binary')"
   ]
  },
  {
   "cell_type": "code",
   "execution_count": 4,
   "metadata": {},
   "outputs": [
    {
     "name": "stdout",
     "output_type": "stream",
     "text": [
      "Found 12762 validated image filenames belonging to 2 classes.\n",
      "Found 3190 validated image filenames belonging to 2 classes.\n"
     ]
    }
   ],
   "source": [
    "# f = open('teste.txt','w')\n",
    "# f.writelines(ds.dataframe['label'])\n",
    "# f.close()\n",
    "train_ds = ds.get_train_ds()\n",
    "test_ds = ds.get_validation_ds()"
   ]
  },
  {
   "cell_type": "code",
   "execution_count": 8,
   "metadata": {},
   "outputs": [
    {
     "data": {
      "text/plain": [
       "{'negative': 0, 'positive': 1}"
      ]
     },
     "execution_count": 8,
     "metadata": {},
     "output_type": "execute_result"
    }
   ],
   "source": [
    "train_ds.class_indices"
   ]
  },
  {
   "cell_type": "code",
   "execution_count": null,
   "metadata": {},
   "outputs": [],
   "source": []
  }
 ],
 "metadata": {
  "interpreter": {
   "hash": "916dbcbb3f70747c44a77c7bcd40155683ae19c65e1c03b4aa3499c5328201f1"
  },
  "kernelspec": {
   "display_name": "Python 3.8.5 64-bit",
   "name": "python3"
  },
  "language_info": {
   "name": "python",
   "version": ""
  },
  "orig_nbformat": 2
 },
 "nbformat": 4,
 "nbformat_minor": 2
}