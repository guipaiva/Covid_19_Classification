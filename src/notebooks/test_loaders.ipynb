{
 "metadata": {
  "language_info": {
   "codemirror_mode": {
    "name": "ipython",
    "version": 3
   },
   "file_extension": ".py",
   "mimetype": "text/x-python",
   "name": "python",
   "nbconvert_exporter": "python",
   "pygments_lexer": "ipython3",
   "version": "3.8.5"
  },
  "orig_nbformat": 2,
  "kernelspec": {
   "name": "python3",
   "display_name": "Python 3",
   "language": "python"
  }
 },
 "nbformat": 4,
 "nbformat_minor": 2,
 "cells": [
  {
   "cell_type": "code",
   "execution_count": 1,
   "metadata": {},
   "outputs": [],
   "source": [
    "import sys\n",
    "import os\n",
    "sys.path.append(os.path.abspath('../'))\n",
    "sys.path.append('/media/data/Documents/IFB/PIBIC/Covid_19_Classification')"
   ]
  },
  {
   "cell_type": "code",
   "execution_count": 2,
   "metadata": {},
   "outputs": [],
   "source": [
    "import data_loaders.covidx_loader as loader\n",
    "from utils.definitions import DATA_DIR\n",
    "\n",
    "dataset = 'COVIDx/train'\n",
    "im_directory = os.path.join(DATA_DIR, dataset)\n",
    "label_dir = os.path.join(im_directory, '../train_split.txt')"
   ]
  },
  {
   "cell_type": "code",
   "execution_count": 3,
   "metadata": {},
   "outputs": [],
   "source": [
    "ds = loader.CovidxLoader(directory = im_directory, im_shape = (224,224,3), label_dir= label_dir, class_mode='binary')"
   ]
  },
  {
   "cell_type": "code",
   "execution_count": 4,
   "metadata": {},
   "outputs": [
    {
     "output_type": "stream",
     "name": "stdout",
     "text": [
      "Found 12762 validated image filenames belonging to 2 classes.\nFound 3190 validated image filenames belonging to 2 classes.\n"
     ]
    },
    {
     "output_type": "execute_result",
     "data": {
      "text/plain": [
       "<keras_preprocessing.image.dataframe_iterator.DataFrameIterator at 0x7fa14c05fbe0>"
      ]
     },
     "metadata": {},
     "execution_count": 4
    }
   ],
   "source": [
    "# f = open('teste.txt','w')\n",
    "# f.writelines(ds.dataframe['label'])\n",
    "# f.close()\n",
    "ds.get_train_ds()\n",
    "ds.get_validation_ds()"
   ]
  },
  {
   "cell_type": "code",
   "execution_count": null,
   "metadata": {},
   "outputs": [],
   "source": []
  }
 ]
}