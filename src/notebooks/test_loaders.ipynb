{
 "cells": [
  {
   "cell_type": "code",
   "execution_count": 1,
   "source": [
    "import sys\n",
    "import os\n",
    "from collections import Counter\n",
    "sys.path.append(os.path.abspath('../'))\n",
    "sys.path.append('/media/data/Documents/IFB/PIBIC/Covid_19_Classification')"
   ],
   "outputs": [],
   "metadata": {}
  },
  {
   "cell_type": "code",
   "execution_count": 2,
   "source": [
    "import data_loaders.covidx_loader as loader\n",
    "from utils.definitions import DATA_DIR\n",
    "\n",
    "dataset = 'COVIDx'\n",
    "im_directory = os.path.join(DATA_DIR, dataset)\n",
    "train_directory = os.path.join(im_directory, 'train')\n",
    "label_dir = os.path.join(im_directory, 'train.txt')"
   ],
   "outputs": [],
   "metadata": {}
  },
  {
   "cell_type": "code",
   "execution_count": 3,
   "source": [
    "ds = loader.CovidxLoader(directory = train_directory, im_shape = (224,224,3), label_dir= label_dir, class_mode='binary')"
   ],
   "outputs": [
    {
     "output_type": "stream",
     "name": "stdout",
     "text": [
      "==================== \n",
      " Train:\n",
      "negative    11035\n",
      "positive     1726\n",
      "Name: label, dtype: int64\n",
      "==================== \n",
      " Valid:\n",
      "negative    2759\n",
      "positive     432\n",
      "Name: label, dtype: int64\n"
     ]
    }
   ],
   "metadata": {}
  },
  {
   "cell_type": "code",
   "execution_count": 4,
   "source": [
    "# f = open('teste.txt','w')\n",
    "# f.writelines(ds.dataframe['label'])\n",
    "# f.close()\n",
    "train_ds = ds.get_train_ds()\n",
    "test_ds = ds.get_validation_ds()"
   ],
   "outputs": [
    {
     "output_type": "stream",
     "name": "stdout",
     "text": [
      "Found 12761 validated image filenames belonging to 2 classes.\n",
      "Found 3191 validated image filenames belonging to 2 classes.\n"
     ]
    }
   ],
   "metadata": {}
  },
  {
   "cell_type": "code",
   "execution_count": 5,
   "source": [
    "counter = Counter(train_ds.classes)"
   ],
   "outputs": [],
   "metadata": {}
  },
  {
   "cell_type": "code",
   "execution_count": 6,
   "source": [
    "counter"
   ],
   "outputs": [
    {
     "output_type": "execute_result",
     "data": {
      "text/plain": [
       "Counter({1: 1726, 0: 11035})"
      ]
     },
     "metadata": {},
     "execution_count": 6
    }
   ],
   "metadata": {}
  },
  {
   "cell_type": "code",
   "execution_count": null,
   "source": [],
   "outputs": [],
   "metadata": {}
  }
 ],
 "metadata": {
  "interpreter": {
   "hash": "916dbcbb3f70747c44a77c7bcd40155683ae19c65e1c03b4aa3499c5328201f1"
  },
  "kernelspec": {
   "name": "python3",
   "display_name": "Python 3.8.10 64-bit"
  },
  "language_info": {
   "name": "python",
   "version": "3.8.10",
   "mimetype": "text/x-python",
   "codemirror_mode": {
    "name": "ipython",
    "version": 3
   },
   "pygments_lexer": "ipython3",
   "nbconvert_exporter": "python",
   "file_extension": ".py"
  },
  "orig_nbformat": 2
 },
 "nbformat": 4,
 "nbformat_minor": 2
}