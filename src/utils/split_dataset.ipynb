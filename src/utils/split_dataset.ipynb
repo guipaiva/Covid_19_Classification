{
 "metadata": {
  "language_info": {
   "codemirror_mode": {
    "name": "ipython",
    "version": 3
   },
   "file_extension": ".py",
   "mimetype": "text/x-python",
   "name": "python",
   "nbconvert_exporter": "python",
   "pygments_lexer": "ipython3",
   "version": "3.8.5"
  },
  "orig_nbformat": 2,
  "kernelspec": {
   "name": "python3",
   "display_name": "Python 3",
   "language": "python"
  }
 },
 "nbformat": 4,
 "nbformat_minor": 2,
 "cells": [
  {
   "cell_type": "code",
   "execution_count": null,
   "metadata": {},
   "outputs": [],
   "source": [
    "import os\n",
    "import pandas as pd\n",
    "from shutil import move"
   ]
  },
  {
   "cell_type": "code",
   "execution_count": null,
   "metadata": {},
   "outputs": [],
   "source": [
    "path = '/home/gpaiva/Documents/IFB/PIBIC/Covid_19_Classification/data/Kaggle/COVID-19_Radiography_Dataset'\n",
    "cov_path = os.path.join(path, 'COVID')\n",
    "nor_path = os.path.join(path, 'Normal')\n",
    "pne_path = os.path.join(path, 'Viral Pneumonia')\n",
    "seed = 36"
   ]
  },
  {
   "cell_type": "code",
   "execution_count": null,
   "metadata": {},
   "outputs": [],
   "source": [
    "cov_df = pd.read_excel(os.path.join(path, 'COVID.metadata.xlsx'), usecols = [0,3])\n",
    "nor_df = pd.read_excel(os.path.join(path, 'Normal.metadata.xlsx'), usecols = [0,3])\n",
    "pne_df = pd.read_excel(os.path.join(path, 'Viral Pneumonia.metadata.xlsx'), usecols = [0,3])\n",
    "cov_df['label'] = 'COVID'\n",
    "nor_df['label'] = 'NORMAL'\n",
    "pne_df['label'] = 'PNEUMONIA'\n",
    "samples = []"
   ]
  },
  {
   "cell_type": "code",
   "execution_count": null,
   "metadata": {},
   "outputs": [],
   "source": [
    "cov_groups = [g for _,g in cov_df.groupby('URL')]\n",
    "cov_samples = [g.sample(frac = 0.1, random_state = seed) for g in cov_groups]"
   ]
  },
  {
   "cell_type": "code",
   "execution_count": null,
   "metadata": {},
   "outputs": [],
   "source": [
    "cov_samples = pd.concat(cov_samples, ignore_index=True)\n",
    "cov_samples.drop('URL', 1, inplace= True)"
   ]
  },
  {
   "cell_type": "code",
   "execution_count": null,
   "metadata": {},
   "outputs": [],
   "source": [
    "nor_groups = [g for _,g in nor_df.groupby('URL')]\n",
    "nor_samples = [g.sample(frac = 0.1, random_state = seed) for g in nor_groups]"
   ]
  },
  {
   "cell_type": "code",
   "execution_count": null,
   "metadata": {},
   "outputs": [],
   "source": [
    "nor_samples = pd.concat(nor_samples, ignore_index=True)\n",
    "nor_samples.drop('URL', 1, inplace=True)"
   ]
  },
  {
   "cell_type": "code",
   "execution_count": null,
   "metadata": {},
   "outputs": [],
   "source": [
    "pne_samples = pne_df.sample(frac=0.1, random_state=seed)\n",
    "pne_samples.drop('URL', 1, inplace=True)"
   ]
  },
  {
   "cell_type": "code",
   "execution_count": null,
   "metadata": {},
   "outputs": [],
   "source": [
    "test_ds = pd.concat([cov_samples, nor_samples, pne_samples], ignore_index=True)"
   ]
  },
  {
   "cell_type": "code",
   "execution_count": null,
   "metadata": {},
   "outputs": [],
   "source": []
  },
  {
   "cell_type": "code",
   "execution_count": null,
   "metadata": {},
   "outputs": [],
   "source": []
  }
 ]
}